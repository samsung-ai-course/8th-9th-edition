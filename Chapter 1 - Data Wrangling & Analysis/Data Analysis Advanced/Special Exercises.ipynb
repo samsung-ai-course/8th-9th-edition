{
 "cells": [
  {
   "cell_type": "markdown",
   "metadata": {},
   "source": [
    "This dataset contains annotations about spans of text where clinical notes contain Personaly Identifiable Information (PIIs). \n",
    "\n",
    "Some notes won't contain any PIIs (column `label`), while others will have a list of findings. Each finding is a list with the start position, end position, and the PII category found in the text.\n",
    "\n",
    "\n",
    "This notebook and the respective data are in the following directory: `Data Wrangling/Data Wrangling - Pandas-Advanced/Data Analysis Advanced/`"
   ]
  },
  {
   "cell_type": "markdown",
   "metadata": {},
   "source": [
    "# Exercise 0 - Load the data\n",
    "\n",
    "you have two files under `data` folder:\n",
    "- annotations.csv: https://raw.githubusercontent.com/samsung-ai-course/8th-9th-edition/refs/heads/main/Chapter%201%20-%20Data%20Wrangling%20%26%20Analysis/Data%20Analysis%20Advanced/data/annotations.csv\n",
    "- note_types.csv: https://raw.githubusercontent.com/samsung-ai-course/8th-9th-edition/refs/heads/main/Chapter%201%20-%20Data%20Wrangling%20%26%20Analysis/Data%20Analysis%20Advanced/data/note_types.csv"
   ]
  },
  {
   "cell_type": "code",
   "execution_count": null,
   "metadata": {},
   "outputs": [],
   "source": [
    "#df_annot = ...\n",
    "#df_note_types = ..."
   ]
  },
  {
   "cell_type": "markdown",
   "metadata": {},
   "source": [
    "# Exercise 1 - Basic Stats\n",
    "\n",
    "> How many notes did not contain any PIIs?\n",
    "\n",
    "\n",
    "Your output should be an integer with the total count of notes without any PII information"
   ]
  },
  {
   "cell_type": "code",
   "execution_count": null,
   "metadata": {},
   "outputs": [],
   "source": [
    "# Your code here"
   ]
  },
  {
   "cell_type": "markdown",
   "metadata": {},
   "source": [
    "# Exercise 1 b) Distribution of PII length\n",
    "\n",
    "What is the average length of each PII? And maximum lenght? And minimum?\n",
    "\n",
    "Your output should be a pandas dataframe where the index values are the unique PII categories, and the columns should be the `mean`, `median`, `max`, `min` of the PII length for its respective category\n"
   ]
  },
  {
   "cell_type": "code",
   "execution_count": 4,
   "metadata": {},
   "outputs": [],
   "source": [
    "# Your code here"
   ]
  },
  {
   "cell_type": "markdown",
   "metadata": {},
   "source": [
    "# Exercise 2 - What is the distribution of PIIs across the dataset\n",
    "\n",
    "Your output should be a pandas series with the unique PII categories as index and their respective count in the whole annotations data as values."
   ]
  },
  {
   "cell_type": "code",
   "execution_count": 1,
   "metadata": {},
   "outputs": [],
   "source": [
    "# Your code here"
   ]
  },
  {
   "cell_type": "markdown",
   "metadata": {},
   "source": [
    "# Exercise 3 - What is the count of PIIs across each note type?\n",
    "\n",
    "Your output should be a dataframe: the index contains the unique note types, the first column contains the number of clinical notes of this type, the second column contains the number of notes of this type **that have at least one PII**"
   ]
  },
  {
   "cell_type": "code",
   "execution_count": 2,
   "metadata": {},
   "outputs": [],
   "source": [
    "# Your code here"
   ]
  },
  {
   "cell_type": "markdown",
   "metadata": {},
   "source": [
    "# Exercise 3.1 - Give me percentages!\n",
    "\n",
    "Add a third column that contains the percentage of clinical notes with at least one PII across all clinical notes that have at least one PII."
   ]
  },
  {
   "cell_type": "code",
   "execution_count": 3,
   "metadata": {},
   "outputs": [],
   "source": [
    "# Your code here"
   ]
  },
  {
   "cell_type": "markdown",
   "metadata": {},
   "source": [
    "# Exercise 4 - Holistic view\n",
    "\n",
    "> Now we want to know the distribution of PII categories across each note type.\n",
    "\n",
    "Your output should be a dataframe with the unique note types in the index values, and the unique PII categories across the dataset"
   ]
  },
  {
   "cell_type": "code",
   "execution_count": 5,
   "metadata": {},
   "outputs": [],
   "source": [
    "# Your code here"
   ]
  }
 ],
 "metadata": {
  "kernelspec": {
   "display_name": "MLCatolica24",
   "language": "python",
   "name": "python3"
  },
  "language_info": {
   "codemirror_mode": {
    "name": "ipython",
    "version": 3
   },
   "file_extension": ".py",
   "mimetype": "text/x-python",
   "name": "python",
   "nbconvert_exporter": "python",
   "pygments_lexer": "ipython3",
   "version": "3.12.3"
  }
 },
 "nbformat": 4,
 "nbformat_minor": 2
}
